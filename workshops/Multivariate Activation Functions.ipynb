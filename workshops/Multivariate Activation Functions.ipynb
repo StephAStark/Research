{
 "cells": [
  {
   "cell_type": "code",
   "execution_count": null,
   "metadata": {},
   "outputs": [],
   "source": [
    "import numpy as np\n",
    "import matplotlib.pyplot as plt\n",
    "\n",
    "%matplotlib inline\n",
    "plt.ion()"
   ]
  },
  {
   "cell_type": "code",
   "execution_count": null,
   "metadata": {},
   "outputs": [],
   "source": [
    "def sig_class(data_vectors, weight_vector, bias):\n",
    "\n",
    "    class_vals = []\n",
    "\n",
    "    for x_i in data_vectors:\n",
    "\n",
    "        decision = 1 / (1 + np.exp(-1 * (np.sum(weight_vector * x_i) + np.sum(bias))))\n",
    "        class_vals.append(decision)\n",
    "\n",
    "    return np.array(class_vals)\n",
    "    \n",
    "sample_data = np.array([\n",
    "    [7, 13],\n",
    "    [12, 11],\n",
    "    [7, 27],\n",
    "    [2, 3],\n",
    "])\n",
    "\n",
    "sample_w = np.array([1, -1])\n",
    "sample_b = np.array([2.0])\n",
    "\n",
    "decisions = sig_class(sample_data, sample_w, sample_b)\n",
    "for i in range(0, len(decisions)):\n",
    "    print('f(x={}, w={}, b={}): {}'.format(\n",
    "        sample_data[i],\n",
    "        sample_w,\n",
    "        sample_b,\n",
    "        decisions[i],\n",
    "    ))"
   ]
  },
  {
   "cell_type": "code",
   "execution_count": null,
   "metadata": {},
   "outputs": [],
   "source": [
    "def sigmoid_2d(weights, bias, left_xlim=-5, right_xlim=5):\n",
    "\n",
    "    mesh_distance = 20\n",
    "\n",
    "    fig = plt.figure()\n",
    "    ax = plt.axes(projection='3d')\n",
    "\n",
    "    ax.set_title('Control Data')\n",
    "    fig.tight_layout()\n",
    "\n",
    "    x = np.linspace(left_xlim, right_xlim, mesh_distance)\n",
    "    y = np.linspace(left_xlim, right_xlim, mesh_distance)\n",
    "\n",
    "    xy = np.array(np.meshgrid(x, y)).T.reshape(-1, 2)\n",
    "    z = sig_class(xy, np.array(weights), np.array(bias)) + np.random.uniform(-0.05, 0.05, xy[:,0].shape)\n",
    "\n",
    "    ax. scatter3D(xy[:,0], xy[:,1], z, c=z, cmap='Greens')\n",
    "\n",
    "    return fig, ax\n",
    "\n",
    "sig_fig, sig_ax = sigmoid_2d([ 0.7, 0.8 ], 0.5)"
   ]
  },
  {
   "cell_type": "code",
   "execution_count": 10,
   "metadata": {},
   "outputs": [
    {
     "name": "stdout",
     "output_type": "stream",
     "text": [
      "Learned weights after 100 iterations is [1. 1.]. The control weights were [0.5, 0.9].\n",
      "Learned bias after 100 iterations is 0.0. The control bias was 0.5.\n"
     ]
    },
    {
     "data": {
      "image/png": "[encoded data removed]",
      "text/plain": [
       "<Figure size 640x480 with 1 Axes>"
      ]
     },
     "metadata": {},
     "output_type": "display_data"
    }
   ],
   "source": [
    "def gradient(weights, bias, xy_pairs, z_vals):\n",
    "\n",
    "    sig_vals = sig_class(xy_pairs, weights, bias)\n",
    "\n",
    "    abs_error = np.subtract(sig_vals, z_vals)\n",
    "\n",
    "    d_weights = np.array([\n",
    "        0,\n",
    "        0,\n",
    "    ])\n",
    "\n",
    "    d_bias = 0\n",
    "\n",
    "    mse = np.sum(abs_error ** 2) / len(abs_error)\n",
    "\n",
    "    return d_weights, d_bias, mse\n",
    "\n",
    "def trian_sig(control_weights, control_bias, left_xlim=-5, right_xlim=5, train_iterations=100):\n",
    "\n",
    "    fig, (err_ax) = plt.subplots(1, 1)\n",
    "    err_ax.set_title('Error (MSE)')\n",
    "    fig.tight_layout()\n",
    "\n",
    "    mesh_distance = 20\n",
    "\n",
    "    x = np.linspace(left_xlim, right_xlim, mesh_distance)\n",
    "    y = np.linspace(left_xlim, right_xlim, mesh_distance)\n",
    "    xy = np.array(np.meshgrid(x, y)).T.reshape(-1, 2)\n",
    "    z = sig_class(\n",
    "        xy,\n",
    "        np.array(control_weights),\n",
    "        np.array(control_bias),\n",
    "    ) + np.random.uniform(-0.05, 0.05, xy[:,0].shape)\n",
    "\n",
    "    w = np.array([1.0, 1.0])\n",
    "    b = np.array([0.0])\n",
    "\n",
    "    learning_rate = 5.0\n",
    "\n",
    "    dw, db, err = gradient(w, b, xy, z)\n",
    "\n",
    "    err_vals = [err]\n",
    "    e, = err_ax.plot(np.arange(0, len(err_vals)), err_vals)\n",
    "\n",
    "    err_ax.set_ylim(bottom=0)\n",
    "    err_ax.set_xlim(left=0, right=train_iterations)\n",
    "\n",
    "    for i in range(train_iterations):\n",
    "\n",
    "        w = np.subtract(w, np.multiply(learning_rate, dw))\n",
    "        b = np.subtract(b, np.multiply(learning_rate, db))\n",
    "\n",
    "        dw, db, err = gradient(w, b, xy, z)\n",
    "        err_vals.append(err)\n",
    "        e.set_xdata(np.arange(0, len(err_vals)))\n",
    "        e.set_ydata(err_vals)\n",
    "\n",
    "        fig.canvas.draw()\n",
    "        fig.canvas.flush_events()\n",
    "\n",
    "    print('Learned weights after {} iterations is {}. The control weights were {}.'.format(\n",
    "        train_iterations,\n",
    "        w,\n",
    "        control_weights,\n",
    "    ))\n",
    "\n",
    "    print('Learned bias after {} iterations is {}. The control bias was {}.'.format(\n",
    "        train_iterations,\n",
    "        np.sum(b),\n",
    "        np.sum(control_bias),\n",
    "    ))\n",
    "\n",
    "    return fig, err_ax\n",
    "\n",
    "sig_fig, sig_ax = trian_sig([ 0.5, 0.9 ], [ 0.5 ])"
   ]
  }
 ],
 "metadata": {
  "kernelspec": {
   "display_name": "venv",
   "language": "python",
   "name": "python3"
  },
  "language_info": {
   "codemirror_mode": {
    "name": "ipython",
    "version": 3
   },
   "file_extension": ".py",
   "mimetype": "text/x-python",
   "name": "python",
   "nbconvert_exporter": "python",
   "pygments_lexer": "ipython3",
   "version": "3.10.11"
  },
  "orig_nbformat": 4
 },
 "nbformat": 4,
 "nbformat_minor": 2
}
